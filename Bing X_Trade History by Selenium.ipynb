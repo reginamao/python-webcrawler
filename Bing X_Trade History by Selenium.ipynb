{
 "cells": [
  {
   "cell_type": "code",
   "execution_count": null,
   "id": "4eeaa3d6",
   "metadata": {},
   "outputs": [],
   "source": [
    "import selenium\n",
    "import pandas as pd\n",
    "from bs4 import BeautifulSoup\n",
    "from selenium import webdriver\n",
    "from selenium.webdriver.chrome.options import Options\n",
    "from selenium.webdriver.chrome.service import Service\n",
    "from webdriver_manager.chrome import ChromeDriverManager\n",
    "import time\n",
    "from selenium.webdriver.common.keys import Keys\n",
    "from selenium.webdriver.common.by import By"
   ]
  },
  {
   "cell_type": "code",
   "execution_count": null,
   "id": "c54ab3b2",
   "metadata": {},
   "outputs": [],
   "source": [
    "options = Options()\n",
    "options.add_argument(\"--disable-notifications\")"
   ]
  },
  {
   "cell_type": "code",
   "execution_count": null,
   "id": "214eb309",
   "metadata": {},
   "outputs": [],
   "source": [
    "driver = webdriver.Chrome()\n",
    "driver.get(\"https://bingx.com/en-us/traders/1089994181377658881/?apiIdentity=1152863604719226888&rankStatisticDays=30&list_id=all&from=4&type=\")"
   ]
  },
  {
   "cell_type": "code",
   "execution_count": null,
   "id": "80a03963",
   "metadata": {},
   "outputs": [],
   "source": [
    "Trade_history = driver.find_element(By.XPATH, \"//*[@id=\\\"__layout\\\"]/div/div[1]/div[2]/div/div[3]/div/div[2]/div[1]/div/div[3]\").click()\n",
    "time.sleep(1)"
   ]
  },
  {
   "cell_type": "code",
   "execution_count": null,
   "id": "a4b5125d",
   "metadata": {},
   "outputs": [],
   "source": [
    "#for i in range(10):\n",
    "    #View_more = driver.find_element(By.CLASS_NAME, \"more\").click()\n",
    "    #time.sleep(1)"
   ]
  },
  {
   "cell_type": "code",
   "execution_count": null,
   "id": "d575d5d5",
   "metadata": {},
   "outputs": [],
   "source": [
    "i = str(2)\n",
    "history_data=[]\n",
    "while 1:\n",
    "    try:\n",
    "        history = driver.find_element(By.XPATH, \"//*[@id=\\\"__layout\\\"]/div/div[1]/div[2]/div/div[3]/div/div[2]/div[2]/div[1]/div[\"+i+\"]\")\n",
    "        i = str(int(i)+1)\n",
    "        history_data.append(history.text.split(\"\\n\"))\n",
    "    except:\n",
    "        break"
   ]
  },
  {
   "cell_type": "code",
   "execution_count": null,
   "id": "1af968e0",
   "metadata": {
    "scrolled": false
   },
   "outputs": [],
   "source": [
    "df = pd.DataFrame(history_data, columns = ['Trading Pair','type','O_Price','C_Price','Close Time','ROI','Copiers','(USDT)'])\n",
    "print(df)"
   ]
  },
  {
   "cell_type": "code",
   "execution_count": null,
   "id": "2e3e1185",
   "metadata": {},
   "outputs": [],
   "source": [
    "driver.close()"
   ]
  }
 ],
 "metadata": {
  "kernelspec": {
   "display_name": "Python 3 (ipykernel)",
   "language": "python",
   "name": "python3"
  },
  "language_info": {
   "codemirror_mode": {
    "name": "ipython",
    "version": 3
   },
   "file_extension": ".py",
   "mimetype": "text/x-python",
   "name": "python",
   "nbconvert_exporter": "python",
   "pygments_lexer": "ipython3",
   "version": "3.9.13"
  }
 },
 "nbformat": 4,
 "nbformat_minor": 5
}
